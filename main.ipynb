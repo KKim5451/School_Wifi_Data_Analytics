{
 "cells": [
  {
   "cell_type": "code",
   "execution_count": 2,
   "metadata": {},
   "outputs": [],
   "source": [
    "import plotly.express as px\n",
    "from jupyter_dash import JupyterDash\n",
    "import dash_core_components as dcc\n",
    "import dash_html_components as html\n",
    "from dash.dependencies import Input, Output, State\n",
    "import dash_bootstrap_components as dbc\n",
    "import dash_daq as daq\n",
    "import dash_auth\n",
    "import glob\n",
    "import os\n",
    "import pandas as pd\n",
    "import numpy as np\n",
    "import time\n",
    "from datetime import datetime  \n",
    "import plotly.graph_objs as go\n",
    "from datetime import timedelta \n",
    "# Load Data\n",
    "# Build App\n",
    "VALID_USERNAME_PASSWORD_PAIRS = {'nkakani': 'uncc' }\n",
    "app = JupyterDash(__name__,external_stylesheets=[dbc.themes.COSMO])\n",
    "app.title = 'UNC Charlotte Analytics'\n",
    "auth = dash_auth.BasicAuth(app, VALID_USERNAME_PASSWORD_PAIRS)"
   ]
  },
  {
   "cell_type": "code",
   "execution_count": 3,
   "metadata": {},
   "outputs": [],
   "source": [
    "dfMain=pd.read_hdf(\"main.h5\")"
   ]
  },
  {
   "cell_type": "code",
   "execution_count": 4,
   "metadata": {},
   "outputs": [],
   "source": [
    "def queryDate(n):\n",
    "    day,month,year=n.day, n.month, n.year\n",
    "    return dfMain.query(\"Time> '{}-{}-{}' and Time<'{}-{}-{}'\".format(year,month,day,year,month,day+1))\n",
    "def queryBetweenDates(n,m):\n",
    "    day,month,year=n.day, n.month, n.year\n",
    "    daym,monthm,yearm=m.day, m.month, m.year\n",
    "    return dfMain.query(\"Time> '{}-{}-{}' and Time<'{}-{}-{}'\".format(year,month,day,yearm,monthm,daym+1))   "
   ]
  },
  {
   "cell_type": "code",
   "execution_count": 5,
   "metadata": {},
   "outputs": [],
   "source": [
    "firstDate=dfMain.Time[0]\n",
    "newDate=dfMain.Time[len(dfMain)-1]\n",
    "df=queryDate(newDate)"
   ]
  },
  {
   "cell_type": "code",
   "execution_count": 6,
   "metadata": {},
   "outputs": [],
   "source": [
    "def jumbo(df):\n",
    "    return html.H1(\"{}\".format(len(pd.unique(df.Username))), className=\"display-3\"), html.P(\"Unique users were active on UNC Charlotte's WiFi Network\"),html.Hr(className=\"my-2\"),html.P(\"{}, {} {}, {}\".format(df.Time.iloc[0].day_name(),df.Time.iloc[0].month_name(),df.Time.iloc[0].day,df.Time.iloc[0].year))"
   ]
  },
  {
   "cell_type": "code",
   "execution_count": 7,
   "metadata": {},
   "outputs": [],
   "source": [
    "times = ['12:00AM-12:59AM', '1:00AM-1:59AM', '2:00AM-2:59AM', '3:00AM-3:59AM', '4:00AM-4:59AM', '5:00AM-5:59AM', '6:00AM-6:59AM', '7:00AM-7:59AM', '8:00AM-8:59AM', '9:00AM-9:59AM', '10:00AM-10:59AM', '11:00AM-11:59AM', '12:00PM-12:59PM', '1:00PM-1:59PM', '2:00PM-2:59PM', '3:00PM-3:59PM', '4:00PM-4:59PM', '5:00PM-5:59PM', '6:00PM-6:59PM', '7:00PM-7:59PM', '8:00PM-8:59PM', '9:00PM-9:59PM', '10:00PM-10:59PM', '11:00PM-11:59PM']\n",
    "\n",
    "def lineplot(df):\n",
    "    dateFaculty = df.loc[(df['Type'] == 'Faculty')]\n",
    "    dateStudent = df.loc[(df['Type'] == 'Student')]\n",
    "    dateGuest = df.loc[(df['Type'] == 'Guest')]\n",
    "    totalFaculty = [dateFaculty.query(\"Hour==0\").Hour.count(), dateFaculty.query(\"Hour==1\").Hour.count(), dateFaculty.query(\"Hour==2\").Hour.count(), dateFaculty.query(\"Hour==3\").Hour.count(), dateFaculty.query(\"Hour==4\").Hour.count(), dateFaculty.query(\"Hour==5\").Hour.count(), dateFaculty.query(\"Hour==6\").Hour.count(), dateFaculty.query(\"Hour==7\").Hour.count(), dateFaculty.query(\"Hour==8\").Hour.count(), dateFaculty.query(\"Hour==9\").Hour.count(), dateFaculty.query(\"Hour==10\").Hour.count(), dateFaculty.query(\"Hour==11\").Hour.count(), dateFaculty.query(\"Hour==12\").Hour.count(), dateFaculty.query(\"Hour==13\").Hour.count(), dateFaculty.query(\"Hour==14\").Hour.count(), dateFaculty.query(\"Hour==15\").Hour.count(), dateFaculty.query(\"Hour==16\").Hour.count(), dateFaculty.query(\"Hour==17\").Hour.count(), dateFaculty.query(\"Hour==18\").Hour.count(), dateFaculty.query(\"Hour==19\").Hour.count(), dateFaculty.query(\"Hour==20\").Hour.count(), dateFaculty.query(\"Hour==21\").Hour.count(), dateFaculty.query(\"Hour==22\").Hour.count(), dateFaculty.query(\"Hour==23\").Hour.count()]\n",
    "    totalStudent = [dateStudent.query(\"Hour==0\").Hour.count(), dateStudent.query(\"Hour==1\").Hour.count(), dateStudent.query(\"Hour==2\").Hour.count(), dateStudent.query(\"Hour==3\").Hour.count(), dateStudent.query(\"Hour==4\").Hour.count(), dateStudent.query(\"Hour==5\").Hour.count(), dateStudent.query(\"Hour==6\").Hour.count(), dateStudent.query(\"Hour==7\").Hour.count(), dateStudent.query(\"Hour==8\").Hour.count(), dateStudent.query(\"Hour==9\").Hour.count(), dateStudent.query(\"Hour==10\").Hour.count(), dateStudent.query(\"Hour==11\").Hour.count(), dateStudent.query(\"Hour==12\").Hour.count(), dateStudent.query(\"Hour==13\").Hour.count(), dateStudent.query(\"Hour==14\").Hour.count(), dateStudent.query(\"Hour==15\").Hour.count(), dateStudent.query(\"Hour==16\").Hour.count(), dateStudent.query(\"Hour==17\").Hour.count(), dateStudent.query(\"Hour==18\").Hour.count(), dateStudent.query(\"Hour==19\").Hour.count(), dateStudent.query(\"Hour==20\").Hour.count(), dateStudent.query(\"Hour==21\").Hour.count(), dateStudent.query(\"Hour==22\").Hour.count(), dateStudent.query(\"Hour==23\").Hour.count()]\n",
    "    totalGuest = [dateGuest.query(\"Hour==0\").Hour.count(), dateGuest.query(\"Hour==1\").Hour.count(), dateGuest.query(\"Hour==2\").Hour.count(), dateGuest.query(\"Hour==3\").Hour.count(), dateGuest.query(\"Hour==4\").Hour.count(), dateGuest.query(\"Hour==5\").Hour.count(), dateGuest.query(\"Hour==6\").Hour.count(), dateGuest.query(\"Hour==7\").Hour.count(), dateGuest.query(\"Hour==8\").Hour.count(), dateGuest.query(\"Hour==9\").Hour.count(), dateGuest.query(\"Hour==10\").Hour.count(), dateGuest.query(\"Hour==11\").Hour.count(), dateGuest.query(\"Hour==12\").Hour.count(), dateGuest.query(\"Hour==13\").Hour.count(), dateGuest.query(\"Hour==14\").Hour.count(), dateGuest.query(\"Hour==15\").Hour.count(), dateGuest.query(\"Hour==16\").Hour.count(), dateGuest.query(\"Hour==17\").Hour.count(), dateGuest.query(\"Hour==18\").Hour.count(), dateGuest.query(\"Hour==19\").Hour.count(), dateGuest.query(\"Hour==20\").Hour.count(), dateGuest.query(\"Hour==21\").Hour.count(), dateGuest.query(\"Hour==22\").Hour.count(), dateGuest.query(\"Hour==23\").Hour.count()]\n",
    "    fig = go.Figure(go.Scatter(x=times, y=totalFaculty, name=\"Faculty\"),)\n",
    "    fig.add_trace(go.Scatter(x=times, y=totalStudent, name=\"Students\"))\n",
    "    fig.add_trace(go.Scatter(x=times, y=totalGuest, name=\"Guests\"),)\n",
    "\n",
    "    fig.update_layout(\n",
    "    title=\"Number of People on Campus During Specific Range of Time on {} {}, {}\".format(df.Time.iloc[0].month_name(),\n",
    "                                      df.Time.iloc[0].day,df.Time.iloc[0].year),\n",
    "    xaxis_title=\"Time of Day\",\n",
    "    yaxis_title=\"Total Number on Campus\",\n",
    "    legend_title=\"Person Type\")\n",
    "    return fig"
   ]
  },
  {
   "cell_type": "code",
   "execution_count": 8,
   "metadata": {},
   "outputs": [],
   "source": [
    "jmbo=jumbo(df)"
   ]
  },
  {
   "cell_type": "code",
   "execution_count": 9,
   "metadata": {},
   "outputs": [],
   "source": [
    "activityTreemap = px.treemap(df, path=['Area', 'Type'])"
   ]
  },
  {
   "cell_type": "code",
   "execution_count": 10,
   "metadata": {},
   "outputs": [],
   "source": [
    "line=lineplot(df)"
   ]
  },
  {
   "cell_type": "code",
   "execution_count": 11,
   "metadata": {},
   "outputs": [],
   "source": [
    "dateOptions=[]\n",
    "for i in range(0,(newDate-firstDate).days+1):\n",
    "    date=newDate-timedelta(days=i)\n",
    "    dateOptions.append({'label': '{}. {}, {}'.format(date.month_name()[:3],date.day, date.year), 'value': date})"
   ]
  },
  {
   "cell_type": "code",
   "execution_count": 12,
   "metadata": {},
   "outputs": [],
   "source": [
    "app.layout = html.Div([\n",
    "    dbc.Navbar(\n",
    "    [\n",
    "        html.A(\n",
    "            # Use row and col to control vertical alignment of logo / brand\n",
    "            dbc.Row(\n",
    "                [\n",
    "                    dbc.Col(html.Img(src=\"https://i.ibb.co/qWXCzYy/49.png\", height=\"30px\"), width=1),\n",
    "                    dbc.Col(dbc.NavbarBrand(\"UNC Charlotte Analytics\", className=\"ml-2\"), width=2),\n",
    "                    dbc.Col(width=6),]))],fixed=\"top\"),\n",
    "    dbc.Jumbotron(children=jmbo,id=\"jumbo\"),\n",
    "    dbc.Row([\n",
    "        dbc.Col(daq.BooleanSwitch(id='multiswitch', on=False,label=\"Select Multiple Days\",labelPosition=\"bottom\")),\n",
    "        dbc.Col(daq.BooleanSwitch(id='unique', on=False,label=\"Show Unique Users Only\",labelPosition=\"bottom\",disabled=True))\n",
    "    ]),    \n",
    "    dcc.Dropdown(id='date-dropdown', value=dateOptions[0][\"value\"],options=dateOptions,style={\"padding\":\"0px 10px 0px 10px\"}, multi=False),\n",
    "    html.Br(),\n",
    "    dbc.Tabs(\n",
    "    [\n",
    "        dbc.Tab(dbc.Spinner(dcc.Graph(id='graph',figure=activityTreemap,style={\"height\": \"95vh\"}),color=\"primary\", type=\"grow\"), label=\"Treemap\"),\n",
    "        dbc.Tab(dbc.Spinner(dcc.Graph(id='lineplot',figure=line,style={\"height\": \"95vh\"}),color=\"primary\", type=\"grow\"), label=\"Line Graph\"),\n",
    "    ]),\n",
    "    \n",
    "])"
   ]
  },
  {
   "cell_type": "code",
   "execution_count": 13,
   "metadata": {},
   "outputs": [],
   "source": [
    "@app.callback(\n",
    "    [Output('graph', 'figure'),Output('jumbo','children'),Output('lineplot', 'figure')],\n",
    "    [Input(\"date-dropdown\", \"value\")],[State(\"multiswitch\", \"on\")]\n",
    ")\n",
    "def update_figure(n,switch):\n",
    "    global df\n",
    "    if n!=None and switch:\n",
    "        df=queryDate(datetime.strptime(n[0], '%Y-%m-%dT%H:%M:%S'))\n",
    "    if len(n)>1 and switch:\n",
    "        for i in range(1,len(n)):\n",
    "            df=df.append(queryDate(datetime.strptime(n[i], '%Y-%m-%dT%H:%M:%S')))\n",
    "    global activityTreemap\n",
    "    if not switch:\n",
    "        df=queryDate(datetime.strptime(n, '%Y-%m-%dT%H:%M:%S'))\n",
    "    if n!=None:\n",
    "        activityTreemap = px.treemap(df, path=['Area', 'Type'])\n",
    "    return activityTreemap, jumbo(df), lineplot(df)"
   ]
  },
  {
   "cell_type": "code",
   "execution_count": 14,
   "metadata": {},
   "outputs": [],
   "source": [
    "@app.callback(\n",
    "    Output('date-dropdown', 'multi'),\n",
    "    [Input(\"multiswitch\", \"on\")]\n",
    ")\n",
    "def switch(n):\n",
    "    return n"
   ]
  },
  {
   "cell_type": "code",
   "execution_count": 15,
   "metadata": {},
   "outputs": [
    {
     "ename": "OSError",
     "evalue": "Address 'http://127.0.0.1:8050' already in use.\n    Try passing a different port to run_server.",
     "output_type": "error",
     "traceback": [
      "\u001b[1;31m---------------------------------------------------------------------------\u001b[0m",
      "\u001b[1;31mOSError\u001b[0m                                   Traceback (most recent call last)",
      "\u001b[1;32m<ipython-input-15-8598472b8dfd>\u001b[0m in \u001b[0;36m<module>\u001b[1;34m\u001b[0m\n\u001b[1;32m----> 1\u001b[1;33m \u001b[0mapp\u001b[0m\u001b[1;33m.\u001b[0m\u001b[0mrun_server\u001b[0m\u001b[1;33m(\u001b[0m\u001b[0mdev_tools_ui\u001b[0m\u001b[1;33m=\u001b[0m\u001b[1;32mFalse\u001b[0m\u001b[1;33m)\u001b[0m\u001b[1;33m\u001b[0m\u001b[1;33m\u001b[0m\u001b[0m\n\u001b[0m",
      "\u001b[1;32m~\\anaconda3\\lib\\site-packages\\jupyter_dash\\jupyter_app.py\u001b[0m in \u001b[0;36mrun_server\u001b[1;34m(self, mode, width, height, inline_exceptions, **kwargs)\u001b[0m\n\u001b[0;32m    317\u001b[0m                 )\n\u001b[0;32m    318\u001b[0m \u001b[1;33m\u001b[0m\u001b[0m\n\u001b[1;32m--> 319\u001b[1;33m         \u001b[0mwait_for_app\u001b[0m\u001b[1;33m(\u001b[0m\u001b[1;33m)\u001b[0m\u001b[1;33m\u001b[0m\u001b[1;33m\u001b[0m\u001b[0m\n\u001b[0m\u001b[0;32m    320\u001b[0m \u001b[1;33m\u001b[0m\u001b[0m\n\u001b[0;32m    321\u001b[0m         \u001b[1;32mif\u001b[0m \u001b[0mJupyterDash\u001b[0m\u001b[1;33m.\u001b[0m\u001b[0m_in_colab\u001b[0m\u001b[1;33m:\u001b[0m\u001b[1;33m\u001b[0m\u001b[1;33m\u001b[0m\u001b[0m\n",
      "\u001b[1;32m~\\anaconda3\\lib\\site-packages\\retrying.py\u001b[0m in \u001b[0;36mwrapped_f\u001b[1;34m(*args, **kw)\u001b[0m\n\u001b[0;32m     47\u001b[0m             \u001b[1;33m@\u001b[0m\u001b[0msix\u001b[0m\u001b[1;33m.\u001b[0m\u001b[0mwraps\u001b[0m\u001b[1;33m(\u001b[0m\u001b[0mf\u001b[0m\u001b[1;33m)\u001b[0m\u001b[1;33m\u001b[0m\u001b[1;33m\u001b[0m\u001b[0m\n\u001b[0;32m     48\u001b[0m             \u001b[1;32mdef\u001b[0m \u001b[0mwrapped_f\u001b[0m\u001b[1;33m(\u001b[0m\u001b[1;33m*\u001b[0m\u001b[0margs\u001b[0m\u001b[1;33m,\u001b[0m \u001b[1;33m**\u001b[0m\u001b[0mkw\u001b[0m\u001b[1;33m)\u001b[0m\u001b[1;33m:\u001b[0m\u001b[1;33m\u001b[0m\u001b[1;33m\u001b[0m\u001b[0m\n\u001b[1;32m---> 49\u001b[1;33m                 \u001b[1;32mreturn\u001b[0m \u001b[0mRetrying\u001b[0m\u001b[1;33m(\u001b[0m\u001b[1;33m*\u001b[0m\u001b[0mdargs\u001b[0m\u001b[1;33m,\u001b[0m \u001b[1;33m**\u001b[0m\u001b[0mdkw\u001b[0m\u001b[1;33m)\u001b[0m\u001b[1;33m.\u001b[0m\u001b[0mcall\u001b[0m\u001b[1;33m(\u001b[0m\u001b[0mf\u001b[0m\u001b[1;33m,\u001b[0m \u001b[1;33m*\u001b[0m\u001b[0margs\u001b[0m\u001b[1;33m,\u001b[0m \u001b[1;33m**\u001b[0m\u001b[0mkw\u001b[0m\u001b[1;33m)\u001b[0m\u001b[1;33m\u001b[0m\u001b[1;33m\u001b[0m\u001b[0m\n\u001b[0m\u001b[0;32m     50\u001b[0m \u001b[1;33m\u001b[0m\u001b[0m\n\u001b[0;32m     51\u001b[0m             \u001b[1;32mreturn\u001b[0m \u001b[0mwrapped_f\u001b[0m\u001b[1;33m\u001b[0m\u001b[1;33m\u001b[0m\u001b[0m\n",
      "\u001b[1;32m~\\anaconda3\\lib\\site-packages\\retrying.py\u001b[0m in \u001b[0;36mcall\u001b[1;34m(self, fn, *args, **kwargs)\u001b[0m\n\u001b[0;32m    210\u001b[0m                 \u001b[1;32mif\u001b[0m \u001b[1;32mnot\u001b[0m \u001b[0mself\u001b[0m\u001b[1;33m.\u001b[0m\u001b[0m_wrap_exception\u001b[0m \u001b[1;32mand\u001b[0m \u001b[0mattempt\u001b[0m\u001b[1;33m.\u001b[0m\u001b[0mhas_exception\u001b[0m\u001b[1;33m:\u001b[0m\u001b[1;33m\u001b[0m\u001b[1;33m\u001b[0m\u001b[0m\n\u001b[0;32m    211\u001b[0m                     \u001b[1;31m# get() on an attempt with an exception should cause it to be raised, but raise just in case\u001b[0m\u001b[1;33m\u001b[0m\u001b[1;33m\u001b[0m\u001b[1;33m\u001b[0m\u001b[0m\n\u001b[1;32m--> 212\u001b[1;33m                     \u001b[1;32mraise\u001b[0m \u001b[0mattempt\u001b[0m\u001b[1;33m.\u001b[0m\u001b[0mget\u001b[0m\u001b[1;33m(\u001b[0m\u001b[1;33m)\u001b[0m\u001b[1;33m\u001b[0m\u001b[1;33m\u001b[0m\u001b[0m\n\u001b[0m\u001b[0;32m    213\u001b[0m                 \u001b[1;32melse\u001b[0m\u001b[1;33m:\u001b[0m\u001b[1;33m\u001b[0m\u001b[1;33m\u001b[0m\u001b[0m\n\u001b[0;32m    214\u001b[0m                     \u001b[1;32mraise\u001b[0m \u001b[0mRetryError\u001b[0m\u001b[1;33m(\u001b[0m\u001b[0mattempt\u001b[0m\u001b[1;33m)\u001b[0m\u001b[1;33m\u001b[0m\u001b[1;33m\u001b[0m\u001b[0m\n",
      "\u001b[1;32m~\\anaconda3\\lib\\site-packages\\retrying.py\u001b[0m in \u001b[0;36mget\u001b[1;34m(self, wrap_exception)\u001b[0m\n\u001b[0;32m    245\u001b[0m                 \u001b[1;32mraise\u001b[0m \u001b[0mRetryError\u001b[0m\u001b[1;33m(\u001b[0m\u001b[0mself\u001b[0m\u001b[1;33m)\u001b[0m\u001b[1;33m\u001b[0m\u001b[1;33m\u001b[0m\u001b[0m\n\u001b[0;32m    246\u001b[0m             \u001b[1;32melse\u001b[0m\u001b[1;33m:\u001b[0m\u001b[1;33m\u001b[0m\u001b[1;33m\u001b[0m\u001b[0m\n\u001b[1;32m--> 247\u001b[1;33m                 \u001b[0msix\u001b[0m\u001b[1;33m.\u001b[0m\u001b[0mreraise\u001b[0m\u001b[1;33m(\u001b[0m\u001b[0mself\u001b[0m\u001b[1;33m.\u001b[0m\u001b[0mvalue\u001b[0m\u001b[1;33m[\u001b[0m\u001b[1;36m0\u001b[0m\u001b[1;33m]\u001b[0m\u001b[1;33m,\u001b[0m \u001b[0mself\u001b[0m\u001b[1;33m.\u001b[0m\u001b[0mvalue\u001b[0m\u001b[1;33m[\u001b[0m\u001b[1;36m1\u001b[0m\u001b[1;33m]\u001b[0m\u001b[1;33m,\u001b[0m \u001b[0mself\u001b[0m\u001b[1;33m.\u001b[0m\u001b[0mvalue\u001b[0m\u001b[1;33m[\u001b[0m\u001b[1;36m2\u001b[0m\u001b[1;33m]\u001b[0m\u001b[1;33m)\u001b[0m\u001b[1;33m\u001b[0m\u001b[1;33m\u001b[0m\u001b[0m\n\u001b[0m\u001b[0;32m    248\u001b[0m         \u001b[1;32melse\u001b[0m\u001b[1;33m:\u001b[0m\u001b[1;33m\u001b[0m\u001b[1;33m\u001b[0m\u001b[0m\n\u001b[0;32m    249\u001b[0m             \u001b[1;32mreturn\u001b[0m \u001b[0mself\u001b[0m\u001b[1;33m.\u001b[0m\u001b[0mvalue\u001b[0m\u001b[1;33m\u001b[0m\u001b[1;33m\u001b[0m\u001b[0m\n",
      "\u001b[1;32m~\\anaconda3\\lib\\site-packages\\six.py\u001b[0m in \u001b[0;36mreraise\u001b[1;34m(tp, value, tb)\u001b[0m\n\u001b[0;32m    701\u001b[0m             \u001b[1;32mif\u001b[0m \u001b[0mvalue\u001b[0m\u001b[1;33m.\u001b[0m\u001b[0m__traceback__\u001b[0m \u001b[1;32mis\u001b[0m \u001b[1;32mnot\u001b[0m \u001b[0mtb\u001b[0m\u001b[1;33m:\u001b[0m\u001b[1;33m\u001b[0m\u001b[1;33m\u001b[0m\u001b[0m\n\u001b[0;32m    702\u001b[0m                 \u001b[1;32mraise\u001b[0m \u001b[0mvalue\u001b[0m\u001b[1;33m.\u001b[0m\u001b[0mwith_traceback\u001b[0m\u001b[1;33m(\u001b[0m\u001b[0mtb\u001b[0m\u001b[1;33m)\u001b[0m\u001b[1;33m\u001b[0m\u001b[1;33m\u001b[0m\u001b[0m\n\u001b[1;32m--> 703\u001b[1;33m             \u001b[1;32mraise\u001b[0m \u001b[0mvalue\u001b[0m\u001b[1;33m\u001b[0m\u001b[1;33m\u001b[0m\u001b[0m\n\u001b[0m\u001b[0;32m    704\u001b[0m         \u001b[1;32mfinally\u001b[0m\u001b[1;33m:\u001b[0m\u001b[1;33m\u001b[0m\u001b[1;33m\u001b[0m\u001b[0m\n\u001b[0;32m    705\u001b[0m             \u001b[0mvalue\u001b[0m \u001b[1;33m=\u001b[0m \u001b[1;32mNone\u001b[0m\u001b[1;33m\u001b[0m\u001b[1;33m\u001b[0m\u001b[0m\n",
      "\u001b[1;32m~\\anaconda3\\lib\\site-packages\\retrying.py\u001b[0m in \u001b[0;36mcall\u001b[1;34m(self, fn, *args, **kwargs)\u001b[0m\n\u001b[0;32m    198\u001b[0m         \u001b[1;32mwhile\u001b[0m \u001b[1;32mTrue\u001b[0m\u001b[1;33m:\u001b[0m\u001b[1;33m\u001b[0m\u001b[1;33m\u001b[0m\u001b[0m\n\u001b[0;32m    199\u001b[0m             \u001b[1;32mtry\u001b[0m\u001b[1;33m:\u001b[0m\u001b[1;33m\u001b[0m\u001b[1;33m\u001b[0m\u001b[0m\n\u001b[1;32m--> 200\u001b[1;33m                 \u001b[0mattempt\u001b[0m \u001b[1;33m=\u001b[0m \u001b[0mAttempt\u001b[0m\u001b[1;33m(\u001b[0m\u001b[0mfn\u001b[0m\u001b[1;33m(\u001b[0m\u001b[1;33m*\u001b[0m\u001b[0margs\u001b[0m\u001b[1;33m,\u001b[0m \u001b[1;33m**\u001b[0m\u001b[0mkwargs\u001b[0m\u001b[1;33m)\u001b[0m\u001b[1;33m,\u001b[0m \u001b[0mattempt_number\u001b[0m\u001b[1;33m,\u001b[0m \u001b[1;32mFalse\u001b[0m\u001b[1;33m)\u001b[0m\u001b[1;33m\u001b[0m\u001b[1;33m\u001b[0m\u001b[0m\n\u001b[0m\u001b[0;32m    201\u001b[0m             \u001b[1;32mexcept\u001b[0m\u001b[1;33m:\u001b[0m\u001b[1;33m\u001b[0m\u001b[1;33m\u001b[0m\u001b[0m\n\u001b[0;32m    202\u001b[0m                 \u001b[0mtb\u001b[0m \u001b[1;33m=\u001b[0m \u001b[0msys\u001b[0m\u001b[1;33m.\u001b[0m\u001b[0mexc_info\u001b[0m\u001b[1;33m(\u001b[0m\u001b[1;33m)\u001b[0m\u001b[1;33m\u001b[0m\u001b[1;33m\u001b[0m\u001b[0m\n",
      "\u001b[1;32m~\\anaconda3\\lib\\site-packages\\jupyter_dash\\jupyter_app.py\u001b[0m in \u001b[0;36mwait_for_app\u001b[1;34m()\u001b[0m\n\u001b[0;32m    310\u001b[0m                     \u001b[0mhost\u001b[0m\u001b[1;33m=\u001b[0m\u001b[0mhost\u001b[0m\u001b[1;33m,\u001b[0m \u001b[0mport\u001b[0m\u001b[1;33m=\u001b[0m\u001b[0mport\u001b[0m\u001b[1;33m,\u001b[0m \u001b[0mtoken\u001b[0m\u001b[1;33m=\u001b[0m\u001b[0mJupyterDash\u001b[0m\u001b[1;33m.\u001b[0m\u001b[0m_token\u001b[0m\u001b[1;33m\u001b[0m\u001b[1;33m\u001b[0m\u001b[0m\n\u001b[0;32m    311\u001b[0m                 )\n\u001b[1;32m--> 312\u001b[1;33m                 raise OSError(\n\u001b[0m\u001b[0;32m    313\u001b[0m                     \u001b[1;34m\"Address '{url}' already in use.\\n\"\u001b[0m\u001b[1;33m\u001b[0m\u001b[1;33m\u001b[0m\u001b[0m\n\u001b[0;32m    314\u001b[0m                     \"    Try passing a different port to run_server.\".format(\n",
      "\u001b[1;31mOSError\u001b[0m: Address 'http://127.0.0.1:8050' already in use.\n    Try passing a different port to run_server."
     ]
    }
   ],
   "source": [
    "app.run_server(dev_tools_ui=False)"
   ]
  },
  {
   "cell_type": "code",
   "execution_count": null,
   "metadata": {},
   "outputs": [],
   "source": []
  }
 ],
 "metadata": {
  "kernelspec": {
   "display_name": "Python 3",
   "language": "python",
   "name": "python3"
  },
  "language_info": {
   "codemirror_mode": {
    "name": "ipython",
    "version": 3
   },
   "file_extension": ".py",
   "mimetype": "text/x-python",
   "name": "python",
   "nbconvert_exporter": "python",
   "pygments_lexer": "ipython3",
   "version": "3.8.3"
  }
 },
 "nbformat": 4,
 "nbformat_minor": 2
}
